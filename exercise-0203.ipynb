{
 "cells": [
  {
   "cell_type": "code",
   "execution_count": 4,
   "metadata": {},
   "outputs": [
    {
     "name": "stdout",
     "output_type": "stream",
     "text": [
      "Jehan\n",
      "I0322057\n",
      "B\n"
     ]
    }
   ],
   "source": [
    "print(input(\"Nama: \"))\n",
    "print(input(\"NIM: \"))\n",
    "print(input(\"Kelas: \"))"
   ]
  },
  {
   "attachments": {},
   "cell_type": "markdown",
   "metadata": {},
   "source": [
    "## 1."
   ]
  },
  {
   "attachments": {},
   "cell_type": "markdown",
   "metadata": {},
   "source": [
    "* **A** Hitunglah luas Prisma Segitiga dengan ketentuan sebagai berikut:\n",
    "    * Alas dan tutup prisma merupakan segitiga\n",
    "    * Terdapat 3 persegi panjang yang menyinggung alas dan tutup prisma\n",
    "    * Sisi persegi panjang yang menyinggung segitiga adalah sisi lebar\n",
    "```python\n",
    "    dictionary_figure = {\"Persegi\":{\"Sisi\":22},\n",
    "                        \"Persegi Panjang\":{\"Panjang\":10,\"Lebar\":5},\n",
    "                        \"Segitiga Sama Sisi\":{\"Sisi\":6,\"Tinggi\":3**(1/2) * 3},\n",
    "                        \"Lingkaran\":{\"Diameter\":7}}\n",
    "```\n",
    "* **B** Hitunglah luas Tabung dengan ketentuan sebagai berikut:\n",
    "    * Alas dan tutup tabung merupakan lingkaran\n",
    "    * Terdapat 1 persegi yang menyinggung alas dan tutup tabung\n",
    "    * Persegi yang ada mengelilingi lingkaran hingga sisi dari persegi saling bertemu\n",
    "\n",
    "> **note:** *Pada soal ini kalian hanya boleh menggunakan key-value pair dan index pada list. Tidak diperbolehkan menulis secara langsung dimensi dari figure*"
   ]
  },
  {
   "cell_type": "code",
   "execution_count": 7,
   "metadata": {},
   "outputs": [
    {
     "name": "stdout",
     "output_type": "stream",
     "text": [
      "luas prisma segitiga : 181.1769145362398\n",
      "luas tabung : 560.9300000000001\n"
     ]
    }
   ],
   "source": [
    "dictionary_figure = {\"Persegi\":{\"Sisi\":22},\n",
    "                     \"Persegi Panjang\":{\"Panjang\":10,\"Lebar\":5},\n",
    "                     \"Segitiga Sama Sisi\":{\"Sisi\":6,\"Tinggi\":3**(1/2) * 3},\n",
    "                     \"Lingkaran\":{\"Diameter\":7}}\n",
    "#luas prisma segitiga\n",
    "luas_segitiga_sama_sisi=1/2*(dictionary_figure[\"Segitiga Sama Sisi\"][\"Sisi\"])*(dictionary_figure[\"Segitiga Sama Sisi\"][\"Tinggi\"]) \n",
    "luas_persegi_panjang=(dictionary_figure[\"Persegi Panjang\"][\"Panjang\"])*(dictionary_figure[\"Persegi Panjang\"][\"Lebar\"])\n",
    "luas_prisma_segitiga=2*luas_segitiga_sama_sisi+3*luas_persegi_panjang\n",
    "\n",
    "#luas tabung \n",
    "luas_lingkaran=3.14*(dictionary_figure[\"Lingkaran\"][\"Diameter\"]/2)**2\n",
    "luas_persegi=(dictionary_figure[\"Persegi\"][\"Sisi\"])**2\n",
    "luas_tabung=2*luas_lingkaran+luas_persegi\n",
    "\n",
    "print(\"luas prisma segitiga :\", luas_prisma_segitiga)\n",
    "print(\"luas tabung :\", luas_tabung)"
   ]
  },
  {
   "attachments": {},
   "cell_type": "markdown",
   "metadata": {},
   "source": [
    "## 2."
   ]
  },
  {
   "attachments": {},
   "cell_type": "markdown",
   "metadata": {},
   "source": [
    "Diberikan List sebagai berikut\n",
    "```Python\n",
    "    data = [8, 8, 4, 6, 8, 9, 6, 5, 4, 7]\n",
    "```\n",
    "* Tambahkan 3 angka baru ke dalam list\n",
    "* Tampilkan output list dengan berurutan dari yang terkecil hingga yang terbesar\n",
    "* Tentukan mean, median, dan modus pada list baru"
   ]
  },
  {
   "cell_type": "code",
   "execution_count": 2,
   "metadata": {},
   "outputs": [
    {
     "name": "stdout",
     "output_type": "stream",
     "text": [
      "[8, 8, 4, 6, 8, 9, 6, 5, 4, 7, 7, 9, 1]\n",
      "[1, 4, 4, 5, 6, 6, 7, 7, 8, 8, 8, 9, 9]\n",
      "mean : 6.3076923076923075\n",
      "mean : 6.3076923076923075\n",
      "median : 7\n",
      "modus : 8\n"
     ]
    }
   ],
   "source": [
    "#menambahkan angka baru\n",
    "data = [8, 8, 4, 6, 8, 9, 6, 5, 4, 7]\n",
    "angka_baru = [7, 9, 1]\n",
    "data.extend(angka_baru)\n",
    "print(data)\n",
    "\n",
    "#mengurutkan data dari yang terkecil ke terbesar\n",
    "data.sort()\n",
    "print(data)\n",
    "\n",
    "#mean, median, modus\n",
    "    #cara 1 mencari mean\n",
    "jumlah_data = sum(data)\n",
    "panjang_data = len(data)\n",
    "print(\"mean :\", jumlah_data/panjang_data)\n",
    "    #cara 2 \n",
    "import statistics\n",
    "mean = statistics.mean(data)\n",
    "print(\"mean:\", mean)\n",
    "median = statistics.median(data)\n",
    "print(\"median :\", median)\n",
    "modus = statistics.mode(data)\n",
    "print(\"modus :\", modus)\n"
   ]
  },
  {
   "attachments": {},
   "cell_type": "markdown",
   "metadata": {},
   "source": [
    "## 3. "
   ]
  },
  {
   "attachments": {},
   "cell_type": "markdown",
   "metadata": {},
   "source": [
    "Dalam pembuatan SIM ada beberapa syarat yang harus dipenuhi bagi para pembuat SIM yaitu:\n",
    "1. Pembuat SIM harus memiliki usia setidaknya 17 tahun\n",
    "2. Pembuat SIM lulus dalam tes kesehatan\n",
    "3. Pembuat SIM lulus dalam uji psikotes\n",
    "4. Pembuat SIM telah mengikuti ujian tertulis dengan nilai setidaknya 70\n",
    "5. Pembuat SIM lulus dalam simulasi berkendara\n",
    "6. Apabila pembuat SIM memiliki surat rekomendasi dari kursus berkendara maka pembuat SIM akan mendapatkan SIM (mengabaikan poin 1-5 apabila poin ke-6 terpenuhi)\n",
    "\n",
    "Buatlah input yang membuat setiap poin menjadi variabel. Output yang dihasilkan merupakan \"True\" apabila pembuat berhak mendapatkan SIM dan \"False\" apabila pembuat tidak berhak mendapatkan SIM.\n",
    "\n",
    "> **note:** *Tidak perlu menggunakan loops dalam membuat programnya*"
   ]
  },
  {
   "cell_type": "code",
   "execution_count": 1,
   "metadata": {},
   "outputs": [
    {
     "name": "stdout",
     "output_type": "stream",
     "text": [
      "apakah pembuat SIM berhak mendapatkan SIM? True\n"
     ]
    }
   ],
   "source": [
    "usia = int(input(\"masukan usia pembuat SIM: \"))\n",
    "tes_kesehatan = input(\"apakah lulus tes kesehatan? (ya/tidak)\")\n",
    "uji_psikotes = input(\"apakah lulus uji psikotes? (ya/tidak)\")\n",
    "nilai_ujian_tertulis = float(input(\"nilai ujian tertulis:\"))\n",
    "simulasi_berkendara = input(\"apakah lulus simulasi berkendara? (ya/tidak)\")\n",
    "surat_rekomendasi = input(\"apakah memiliki surat rekomendasi dari kursus berkendara? (ya/tidak)\")\n",
    "\n",
    "hasil=usia>=17 and tes_kesehatan==\"ya\" and uji_psikotes==\"ya\" and nilai_ujian_tertulis>=70 and simulasi_berkendara==\"ya\" or surat_rekomendasi==\"ya\"\n",
    "print(\"apakah pembuat SIM berhak mendapatkan SIM?\", hasil)"
   ]
  }
 ],
 "metadata": {
  "kernelspec": {
   "display_name": "Python 3",
   "language": "python",
   "name": "python3"
  },
  "language_info": {
   "codemirror_mode": {
    "name": "ipython",
    "version": 3
   },
   "file_extension": ".py",
   "mimetype": "text/x-python",
   "name": "python",
   "nbconvert_exporter": "python",
   "pygments_lexer": "ipython3",
   "version": "3.11.2"
  },
  "orig_nbformat": 4,
  "vscode": {
   "interpreter": {
    "hash": "5addf786bcd861d1ce5006f23111f8cbb206731e5b61b0a5632ba9e0252558a8"
   }
  }
 },
 "nbformat": 4,
 "nbformat_minor": 2
}
