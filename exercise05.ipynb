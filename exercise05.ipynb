{
 "cells": [
  {
   "attachments": {},
   "cell_type": "markdown",
   "metadata": {},
   "source": [
    "1. Diberikan List sebagai berikut!"
   ]
  },
  {
   "cell_type": "code",
   "execution_count": null,
   "metadata": {},
   "outputs": [],
   "source": [
    "list1 = ['a','b','c']\n",
    "list1 = ['c','d','e']"
   ]
  },
  {
   "attachments": {},
   "cell_type": "markdown",
   "metadata": {},
   "source": [
    "Buatlah program pengulangan untuk menampilkan elemen dalam kedua list tersebut yang sama! (Contoh Output \"Nilai yang sama adalah 'C'\")"
   ]
  },
  {
   "cell_type": "code",
   "execution_count": 1,
   "metadata": {},
   "outputs": [
    {
     "name": "stdout",
     "output_type": "stream",
     "text": [
      "Nilai yang sama adalah c\n"
     ]
    }
   ],
   "source": [
    "# Kerjakan nomor 1 di sini\n",
    "list1 = ['a','b','c']\n",
    "list2 = ['c', 'd', 'e']\n",
    "\n",
    "for z in list1:\n",
    "    if z in list2:\n",
    "        print(\"Nilai yang sama adalah\", z)"
   ]
  },
  {
   "attachments": {},
   "cell_type": "markdown",
   "metadata": {},
   "source": [
    "2. Buatlah sebuah list yang berisi daftar mata kuliah di Teknik Industri UNS (minimal 10 matkul). Kemudian buat program pencarian menggunakan pengulangan. Apabila nama matkul yang user inputkan sudah sesuai dengan isi list maka program akan berhenti dan menampilkan output \"Mata Kuliah (matkul yang diinput user) adalah mata kuliah di Teknik Industri UNS\"."
   ]
  },
  {
   "cell_type": "code",
   "execution_count": 11,
   "metadata": {},
   "outputs": [
    {
     "name": "stdout",
     "output_type": "stream",
     "text": [
      "Mata kuliah sejarah bukan merupakan mata kuliah di Teknik Industri UNS\n",
      "Mata kuliah matematika bukan merupakan mata kuliah di Teknik Industri UNS\n",
      "Mata kuliah biologi adalah mata kuliah di Teknik Industri UNS\n"
     ]
    }
   ],
   "source": [
    "# Kerjakan nomor 2 di sini\n",
    "daftar_matkul ={'kalkulus', 'fisika dasar','kimia dasar', 'biologi','pendidikan agama islam',\n",
    "                'pengantar teknik industri','pengantar ilmu ekonomi','psikologi industri',\n",
    "                'programma komputer','material teknik', 'mekanika teknik'\n",
    "}\n",
    "while True : \n",
    "    matkul= str(input(\"masukan nama matkul(masukan 'j' jika sudah):\"))\n",
    "    if matkul.lower() == 'j':\n",
    "        break\n",
    "    elif matkul in daftar_matkul:\n",
    "        print(\"Mata kuliah\", matkul, \"adalah mata kuliah di Teknik Industri UNS\")\n",
    "        break\n",
    "    else:\n",
    "        print(\"Mata kuliah\", matkul, \"bukan merupakan mata kuliah di Teknik Industri UNS\")"
   ]
  },
  {
   "attachments": {},
   "cell_type": "markdown",
   "metadata": {},
   "source": [
    "3. Buatlah program untuk menampilkan faktorial dari suatu bilangan dimana bilangan tersebut didapat melalui input user!"
   ]
  },
  {
   "cell_type": "code",
   "execution_count": 4,
   "metadata": {},
   "outputs": [
    {
     "name": "stdout",
     "output_type": "stream",
     "text": [
      "faktorial dari 7 adalah 5040\n"
     ]
    }
   ],
   "source": [
    "# Kerjakan nomor 3 di sini\n",
    "bilangan = int(input(\"masukan angka:\"))\n",
    "faktorial = 1\n",
    "\n",
    "for z in range(1,bilangan+1):\n",
    "    faktorial *= z\n",
    "print(\"faktorial dari\", bilangan, \"adalah\", faktorial)"
   ]
  },
  {
   "cell_type": "code",
   "execution_count": null,
   "metadata": {},
   "outputs": [],
   "source": []
  }
 ],
 "metadata": {
  "kernelspec": {
   "display_name": "Python 3",
   "language": "python",
   "name": "python3"
  },
  "language_info": {
   "codemirror_mode": {
    "name": "ipython",
    "version": 3
   },
   "file_extension": ".py",
   "mimetype": "text/x-python",
   "name": "python",
   "nbconvert_exporter": "python",
   "pygments_lexer": "ipython3",
   "version": "3.11.2"
  },
  "orig_nbformat": 4
 },
 "nbformat": 4,
 "nbformat_minor": 2
}
