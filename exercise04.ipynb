{
 "cells": [
  {
   "cell_type": "code",
   "execution_count": 1,
   "metadata": {},
   "outputs": [
    {
     "name": "stdout",
     "output_type": "stream",
     "text": [
      "jehan\n",
      "I0322057\n",
      "B\n"
     ]
    }
   ],
   "source": [
    "print(input(\"Nama: \"))\n",
    "print(input(\"NIM: \"))\n",
    "print(input(\"Kelas: \"))"
   ]
  },
  {
   "attachments": {},
   "cell_type": "markdown",
   "metadata": {},
   "source": [
    "## 1."
   ]
  },
  {
   "attachments": {},
   "cell_type": "markdown",
   "metadata": {},
   "source": [
    "Buatlah program yang meminta input string dari user, kemudian program akan menentukan string tersebut adalah palyndrome atau bukan.<br>\n",
    "* Palyndrome adalah kata atau kalimat yang jika dibalik hasilnya sama\n",
    "* kasur rusak adalah palyndrome\n",
    "\n",
    "> *note: Kerjakan soal ini dengan percabangan*"
   ]
  },
  {
   "cell_type": "code",
   "execution_count": 7,
   "metadata": {},
   "outputs": [
    {
     "name": "stdout",
     "output_type": "stream",
     "text": [
      "kata kakak merupakan polyndrome\n"
     ]
    }
   ],
   "source": [
    "# Kerjaka_atau_kalimatn soal no 1 di sini\n",
    "kata = str(input(\"masukan kata= \"))\n",
    "reverse = kata[::-1]\n",
    "\n",
    "if kata == reverse:\n",
    "    print(\"kata\", kata, \"merupakan polyndrome\")\n",
    "else:\n",
    "    print(\"kata\",kata, \"bukan polyndrome\")"
   ]
  },
  {
   "attachments": {},
   "cell_type": "markdown",
   "metadata": {},
   "source": [
    "## 2."
   ]
  },
  {
   "attachments": {},
   "cell_type": "markdown",
   "metadata": {},
   "source": [
    "Buatlah program yang meminta input berupa tahun dan bulan kemudian tampilkan jumlah hari pada bulan tersebut (perbedaan pada tahun kabisat).<br>\n",
    "\n",
    "> *note: Kerjakan soal ini dengan percabangan*"
   ]
  },
  {
   "cell_type": "code",
   "execution_count": 14,
   "metadata": {},
   "outputs": [
    {
     "name": "stdout",
     "output_type": "stream",
     "text": [
      "jumlah hari pada bulan februari tahun 2022 adalah 28 hari\n"
     ]
    }
   ],
   "source": [
    "# Kerjakan soal no 2 di sini\n",
    "bulan_hari = {\n",
    "    'tahun kabisat': {\n",
    "    'januari': 31, 'februari': 29, 'maret': 31, 'april': 30, 'mei': 31, 'juni' :30, 'juli': 31,\n",
    "    'agustus':31, 'september':30,'oktober':31, 'november':30,'desember':31\n",
    "    },\n",
    "    'tahun normal' : {\n",
    "    'januari': 31, 'februari': 28, 'maret': 31, 'april': 30, 'mei': 31, 'juni' :30, 'juli': 31,\n",
    "    'agustus':31, 'september':30,'oktober':31, 'november':30,'desember':31\n",
    "    }\n",
    "}\n",
    "tahun = int(input(\"masukan tahun =\"))\n",
    "bulan1 = str(input(\"masukan bulan (lowercase)\"))\n",
    "\n",
    "if tahun % 4 == 0 and tahun % 100 != 0 or tahun % 400 == 0:\n",
    "    print(\"jumlah hari pada bulan\", bulan, \"tahun\", tahun, \"adalah\", bulan_hari['tahun kabisat'][bulan], \"hari\")\n",
    "else:\n",
    "    print(\"jumlah hari pada bulan\", bulan, \"tahun\", tahun, \"adalah\", bulan_hari['tahun normal'][bulan], \"hari\")\n"
   ]
  }
 ],
 "metadata": {
  "kernelspec": {
   "display_name": "Python 3",
   "language": "python",
   "name": "python3"
  },
  "language_info": {
   "codemirror_mode": {
    "name": "ipython",
    "version": 3
   },
   "file_extension": ".py",
   "mimetype": "text/x-python",
   "name": "python",
   "nbconvert_exporter": "python",
   "pygments_lexer": "ipython3",
   "version": "3.11.2"
  },
  "orig_nbformat": 4
 },
 "nbformat": 4,
 "nbformat_minor": 2
}
