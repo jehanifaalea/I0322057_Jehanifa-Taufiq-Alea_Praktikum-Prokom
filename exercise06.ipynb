{
 "cells": [
  {
   "attachments": {},
   "cell_type": "markdown",
   "metadata": {},
   "source": [
    "1. Tulis program dengan fungsi untuk menentukan yang paling besar dari empat angka yang diberikan!\n",
    "     ###### Note: Angka ditentukan sendiri oleh praktikan"
   ]
  },
  {
   "cell_type": "code",
   "execution_count": 6,
   "metadata": {},
   "outputs": [
    {
     "name": "stdout",
     "output_type": "stream",
     "text": [
      "list angka= [9, 7, 13, 99]\n",
      "berdasarkan list angka diatas, angka yang paling besar adalah 99\n"
     ]
    }
   ],
   "source": [
    "# Kerjakan Nomor 1 di bawah ini\n",
    "list = [9,7,13,99]\n",
    "print(f\"list angka= {list}\")\n",
    "print(f\"berdasarkan list angka diatas, angka yang paling besar adalah {max(list)}\")\n"
   ]
  },
  {
   "attachments": {},
   "cell_type": "markdown",
   "metadata": {},
   "source": [
    "2. Tulis fungsi Python yang mengambil list awal dan menampilkan list baru dengan angka unik (tidak ada angka yang sama) dari list yang pertama."
   ]
  },
  {
   "cell_type": "code",
   "execution_count": null,
   "metadata": {},
   "outputs": [],
   "source": [
    "list_awal = [9,9,9,9,9,9,9,10,11,13,14,15,17,19]"
   ]
  },
  {
   "cell_type": "code",
   "execution_count": 7,
   "metadata": {},
   "outputs": [
    {
     "name": "stdout",
     "output_type": "stream",
     "text": [
      "list awal = [9, 9, 9, 9, 9, 9, 9, 10, 11, 13, 14, 15, 17, 19]\n",
      "list baru = [9, 10, 11, 13, 14, 15, 17, 19]\n"
     ]
    }
   ],
   "source": [
    "# Kerjakan Nomor 2 di bawah ini\n",
    "list_awal = [9,9,9,9,9,9,9,10,11,13,14,15,17,19]\n",
    "def angka_unik(list_awal):\n",
    "    list_baru = []\n",
    "    for z in list_awal:\n",
    "        if z not in list_baru:\n",
    "            list_baru.append(z)\n",
    "    return list_baru\n",
    "\n",
    "print(f\"list awal = {list_awal}\")\n",
    "print(f\"list baru = {angka_unik(list_awal)}\")"
   ]
  },
  {
   "attachments": {},
   "cell_type": "markdown",
   "metadata": {},
   "source": [
    "3. Hitunglah 2 angka yang dapat diinputkan dengan angka kedua menjadi pangkat bagi angka pertama, dan angka kedua menjadi pembagi angka pertama (tampilkan juga sisa hasil pembagiannya) \n",
    "\n",
    "clue : gunakan fungsi yang ada di built-in tanpa menggunakan sintaks operator seperti * ataupun /."
   ]
  },
  {
   "cell_type": "code",
   "execution_count": 2,
   "metadata": {},
   "outputs": [
    {
     "name": "stdout",
     "output_type": "stream",
     "text": [
      "99 pangkat 7 = 93206534790699\n",
      "99 dibagi 7 = 14 sisa 1\n",
      "4 pangkat 2 = 16\n",
      "4 dibagi 2 = 2 sisa 0\n"
     ]
    }
   ],
   "source": [
    "# Kerjakan Nomor 3 di bawah ini\n",
    "def number(j,z):\n",
    "    pangkat = pow(j,z)\n",
    "    bagi = divmod(j,z)\n",
    "    print(f\"{j} pangkat {z} = {pangkat}\")\n",
    "    print(f\"{j} dibagi {z} = {bagi[0]} sisa {bagi[1]}\")\n",
    "\n",
    "number(99,7)\n",
    "number(4,2)\n",
    "\n"
   ]
  }
 ],
 "metadata": {
  "kernelspec": {
   "display_name": "Python 3",
   "language": "python",
   "name": "python3"
  },
  "language_info": {
   "codemirror_mode": {
    "name": "ipython",
    "version": 3
   },
   "file_extension": ".py",
   "mimetype": "text/x-python",
   "name": "python",
   "nbconvert_exporter": "python",
   "pygments_lexer": "ipython3",
   "version": "3.11.2"
  },
  "orig_nbformat": 4,
  "vscode": {
   "interpreter": {
    "hash": "5addf786bcd861d1ce5006f23111f8cbb206731e5b61b0a5632ba9e0252558a8"
   }
  }
 },
 "nbformat": 4,
 "nbformat_minor": 2
}
